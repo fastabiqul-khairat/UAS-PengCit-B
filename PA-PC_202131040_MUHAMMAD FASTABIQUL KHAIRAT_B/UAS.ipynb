{
 "cells": [
  {
   "cell_type": "code",
   "execution_count": 1,
   "id": "f1086ed7",
   "metadata": {},
   "outputs": [],
   "source": [
    "import cv2\n",
    "import numpy as np\n",
    "import matplotlib.pyplot as plt"
   ]
  },
  {
   "cell_type": "code",
   "execution_count": 2,
   "id": "be98f5b8",
   "metadata": {},
   "outputs": [],
   "source": [
    "image = cv2.imread('image.jpg')"
   ]
  },
  {
   "cell_type": "code",
   "execution_count": null,
   "id": "92011a1f",
   "metadata": {},
   "outputs": [],
   "source": [
    "cv2.imshow(\"Citra Asli\", image)\n",
    "cv2.waitKey(0)\n",
    "cv2.destroyAllWindows()"
   ]
  },
  {
   "cell_type": "code",
   "execution_count": null,
   "id": "ea853145",
   "metadata": {},
   "outputs": [],
   "source": [
    "# Konversi gambar menjadi grayscale\n",
    "gray = cv2.cvtColor(image, cv2.COLOR_BGR2GRAY)\n",
    "\n",
    "# Mengaplikasikan Gaussian Blur untuk mengurangi noise\n",
    "blur = cv2.GaussianBlur(gray, (5, 5), 0)\n",
    "\n",
    "# Deteksi tepi menggunakan Canny edge detection\n",
    "edges = cv2.Canny(blur, 100, 150)"
   ]
  },
  {
   "cell_type": "code",
   "execution_count": null,
   "id": "127d9400",
   "metadata": {},
   "outputs": [],
   "source": [
    "# Menggunakan Transformasi Hough untuk mendeteksi garis\n",
    "lines = cv2.HoughLinesP(edges, 1, np.pi / 180, threshold=100, minLineLength=100, maxLineGap=10)\n",
    "\n",
    "# Menggambar garis pada gambar asli\n",
    "for line in lines:\n",
    "    x1, y1, x2, y2 = line[0]\n",
    "    cv2.line(image, (x1, y1), (x2, y2), (0, 255, 0), 3)"
   ]
  },
  {
   "cell_type": "code",
   "execution_count": null,
   "id": "e6ac38fd",
   "metadata": {},
   "outputs": [],
   "source": [
    "# TAMPILAN MENGGUNAKAN FIGUR DAN XIS (FUNGSI MATPLOTLIB)\n",
    "fig, axs = plt.subplots(1,2, figsize = (10,10))\n",
    "ax = axs.ravel()\n",
    "\n",
    "# Tampilan Asli\n",
    "ax[0].imshow(gray, cmap = 'gray')\n",
    "ax[0].set_title ('Citra Asli')\n",
    "\n",
    "# Tampilan edges\n",
    "ax[1].imshow(image, cmap = 'gray')\n",
    "ax[1].set_title ('After Edges')"
   ]
  },
  {
   "cell_type": "code",
   "execution_count": null,
   "id": "e526c402",
   "metadata": {},
   "outputs": [],
   "source": []
  }
 ],
 "metadata": {
  "kernelspec": {
   "display_name": "Python 3 (ipykernel)",
   "language": "python",
   "name": "python3"
  },
  "language_info": {
   "codemirror_mode": {
    "name": "ipython",
    "version": 3
   },
   "file_extension": ".py",
   "mimetype": "text/x-python",
   "name": "python",
   "nbconvert_exporter": "python",
   "pygments_lexer": "ipython3",
   "version": "3.9.13"
  }
 },
 "nbformat": 4,
 "nbformat_minor": 5
}
